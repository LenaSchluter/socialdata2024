{
 "cells": [
  {
   "cell_type": "markdown",
   "metadata": {},
   "source": [
    "# Part 1: Exploratory data visualzation, two variables"
   ]
  },
  {
   "cell_type": "markdown",
   "metadata": {},
   "source": [
    "Exercise: Questions from DAOST Chapter 3. Read the text and answer the questions to make sure you get it. No need for LLMs here\n",
    "\n",
    "Looking at Fig 3-1, Janert writes \"the data itself shows clearly that the amount of random noise in the data is small\". What do you think his argument is?\n",
    "* Looking at the data, it is clearly falling on a curve that follows a pattern systematicly. The dots are not differing alot from this pattern, meaning the random noise there might be to each measurement is small. But there can be noise/errors that are systematicly affecting all datapoints such as problems with the apparatus. \n",
    "\n",
    "Can you think of a real-world example of a multivariate relationship like the one in Fig 3-3 (lower right panel)?\n",
    "* A real world example from my field of study could be an antibiotic treatment. Increasing dose of antibiotics (on x axis) initially decreases the amount of bacteria. But with half of the treatment completed, there is a risk of antibiotic resistant bacteria arising, and now they have an advantage to grow with no competing bacteria.\n",
    "\n",
    "What are the two methods Janert metions for smoothing noisy data? Can you think of other ones?\n",
    "* The two methods are splines and LOESS \n",
    "MANGLER\n",
    "\n",
    "What are residuals? Why is it a good idea to plot the residuals of your fit?\n",
    "\n",
    "\n",
    "Explain in your own words the point of the smooth tube in figure 3-7.\n",
    "\n",
    "\n",
    "What the h#ll is banking and what part of our visual system does it use to help us see patterns? What are potential problems with banking?\n",
    "\n",
    "\n",
    "Summarize the discussion of Graphical Analysis and Presentation Graphics on pp. 68-69 in your own words.\n"
   ]
  },
  {
   "cell_type": "markdown",
   "metadata": {},
   "source": []
  }
 ],
 "metadata": {
  "language_info": {
   "name": "python"
  }
 },
 "nbformat": 4,
 "nbformat_minor": 2
}
